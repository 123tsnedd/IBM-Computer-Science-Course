{
 "cells": [
  {
   "cell_type": "markdown",
   "id": "d9502651",
   "metadata": {},
   "source": [
    "# Data Science Tools and Ecosystem"
   ]
  },
  {
   "cell_type": "markdown",
   "id": "ae1798ce",
   "metadata": {},
   "source": [
    "In this notebook, Data Science Tools and Ecosystem are summarized."
   ]
  },
  {
   "cell_type": "markdown",
   "id": "05975a79",
   "metadata": {},
   "source": [
    "Some of the popular languages that Data Scientists use are:\n",
    " * c++\n",
    " * Python\n",
    " * R"
   ]
  },
  {
   "cell_type": "markdown",
   "id": "27d6fd74",
   "metadata": {},
   "source": [
    "Some of the commonly used libraries used by Data Scientists include:\n",
    " * Pandas\n",
    " * Numpy\n",
    " * MatplotLib"
   ]
  },
  {
   "cell_type": "markdown",
   "id": "5867913f",
   "metadata": {},
   "source": [
    "| Data Science Tools |\n",
    "| :-- |\n",
    "| R-Studio |\n",
    "| Spyder |\n",
    "| VSC |"
   ]
  },
  {
   "cell_type": "markdown",
   "id": "e019a0ed",
   "metadata": {},
   "source": [
    "### Below are a few examples of evaluating arithmetic expressions in Python"
   ]
  },
  {
   "cell_type": "code",
   "execution_count": 5,
   "id": "ef59cb8d",
   "metadata": {},
   "outputs": [
    {
     "data": {
      "text/plain": [
       "17"
      ]
     },
     "execution_count": 5,
     "metadata": {},
     "output_type": "execute_result"
    }
   ],
   "source": [
    "# This a simple arithmetic expression to mutiply then add integers\n",
    "(3*4)+5"
   ]
  },
  {
   "cell_type": "code",
   "execution_count": 6,
   "id": "a82b5cab",
   "metadata": {},
   "outputs": [],
   "source": [
    "#This will convert 200 minutes to hours by diving by 60\n",
    "hours = 200 / 60"
   ]
  },
  {
   "cell_type": "code",
   "execution_count": 7,
   "id": "027a13a7",
   "metadata": {},
   "outputs": [
    {
     "data": {
      "text/plain": [
       "3.3333333333333335"
      ]
     },
     "execution_count": 7,
     "metadata": {},
     "output_type": "execute_result"
    }
   ],
   "source": [
    "hours"
   ]
  },
  {
   "cell_type": "markdown",
   "id": "c1f11fa5",
   "metadata": {},
   "source": [
    "**Objectives:**\n",
    " * Listed languages\n",
    " * listed libraries\n",
    " * created table\n",
    " * did maths"
   ]
  },
  {
   "cell_type": "markdown",
   "id": "9a634fcb",
   "metadata": {},
   "source": [
    "## Author\n",
    "\n",
    "John Doe"
   ]
  },
  {
   "cell_type": "code",
   "execution_count": null,
   "id": "14f9ec36",
   "metadata": {},
   "outputs": [],
   "source": []
  }
 ],
 "metadata": {
  "kernelspec": {
   "display_name": "Python 3 (ipykernel)",
   "language": "python",
   "name": "python3"
  },
  "language_info": {
   "codemirror_mode": {
    "name": "ipython",
    "version": 3
   },
   "file_extension": ".py",
   "mimetype": "text/x-python",
   "name": "python",
   "nbconvert_exporter": "python",
   "pygments_lexer": "ipython3",
   "version": "3.9.15"
  }
 },
 "nbformat": 4,
 "nbformat_minor": 5
}
